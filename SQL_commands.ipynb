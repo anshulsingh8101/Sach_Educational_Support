{
 "cells": [
  {
   "cell_type": "code",
   "execution_count": 1,
   "id": "essential-tyler",
   "metadata": {},
   "outputs": [],
   "source": [
    "import mysql.connector as sql"
   ]
  },
  {
   "cell_type": "code",
   "execution_count": null,
   "id": "rural-glenn",
   "metadata": {},
   "outputs": [],
   "source": [
    "connection = sql.connect(host = \"localhost\",\n",
    "                         user = \"root\",\n",
    "                         password = \"12345\"\n",
    "                         )\n",
    "\n",
    "# another parameter of sql is databases in which we can specify the "
   ]
  },
  {
   "cell_type": "code",
   "execution_count": null,
   "id": "polyphonic-marks",
   "metadata": {},
   "outputs": [],
   "source": [
    "print(connection)"
   ]
  },
  {
   "cell_type": "code",
   "execution_count": null,
   "id": "active-grave",
   "metadata": {},
   "outputs": [],
   "source": [
    "cursor = connection.cursor()\n",
    "\n",
    "cursor.execute(\" CREATE DATABASE new_dummy\")\n",
    "\n",
    "cursor.execute(\" SHOW DATABASES\")"
   ]
  },
  {
   "cell_type": "code",
   "execution_count": null,
   "id": "bright-seafood",
   "metadata": {},
   "outputs": [],
   "source": [
    "for curs in cursor:\n",
    "    print(curs)"
   ]
  },
  {
   "cell_type": "code",
   "execution_count": null,
   "id": "latest-google",
   "metadata": {},
   "outputs": [],
   "source": [
    "cursor.execute(\"DROP DATABASE new_dummy\")"
   ]
  },
  {
   "cell_type": "code",
   "execution_count": null,
   "id": "fourth-capture",
   "metadata": {},
   "outputs": [],
   "source": [
    "cursor.execute(\"SHOW DATABASES\")"
   ]
  },
  {
   "cell_type": "code",
   "execution_count": null,
   "id": "loose-signal",
   "metadata": {},
   "outputs": [],
   "source": [
    "for curs in cursor:\n",
    "    print(curs)"
   ]
  },
  {
   "cell_type": "code",
   "execution_count": 2,
   "id": "prostate-experiment",
   "metadata": {},
   "outputs": [],
   "source": [
    "connection = sql.connect(host = \"localhost\",\n",
    "                         user = \"root\",\n",
    "                         password = \"12345\",\n",
    "                         database = 'dummy')"
   ]
  },
  {
   "cell_type": "code",
   "execution_count": 4,
   "id": "potential-jason",
   "metadata": {},
   "outputs": [],
   "source": [
    "cursor = connection.cursor()"
   ]
  },
  {
   "cell_type": "code",
   "execution_count": 6,
   "id": "liked-seminar",
   "metadata": {},
   "outputs": [],
   "source": [
    "# cursor.execute(\"CREATE TABLE studentinfo (id INT AUTO_INCREMENT PRIMARY KEY, name VARCHAR(255), subject VARCHAR(255))\")"
   ]
  },
  {
   "cell_type": "code",
   "execution_count": 7,
   "id": "thrown-illinois",
   "metadata": {},
   "outputs": [],
   "source": [
    "query = \"INSERT INTO studentinfo (name, subject) VALUES (%s, %s)\"\n",
    "\n",
    "values = (\"Anshul\", \"data science\")\n",
    "\n",
    "cursor.execute(query, values)"
   ]
  },
  {
   "cell_type": "code",
   "execution_count": 8,
   "id": "awful-progressive",
   "metadata": {},
   "outputs": [
    {
     "data": {
      "text/plain": [
       "[(4, 'Anshul', 'data science')]"
      ]
     },
     "execution_count": 8,
     "metadata": {},
     "output_type": "execute_result"
    }
   ],
   "source": [
    "cursor.execute(\"Select * from studentinfo\")\n",
    "\n",
    "cursor.fetchall()"
   ]
  },
  {
   "cell_type": "code",
   "execution_count": null,
   "id": "objective-coupon",
   "metadata": {},
   "outputs": [],
   "source": []
  }
 ],
 "metadata": {
  "kernelspec": {
   "display_name": "Python 3",
   "language": "python",
   "name": "python3"
  },
  "language_info": {
   "codemirror_mode": {
    "name": "ipython",
    "version": 3
   },
   "file_extension": ".py",
   "mimetype": "text/x-python",
   "name": "python",
   "nbconvert_exporter": "python",
   "pygments_lexer": "ipython3",
   "version": "3.6.12"
  }
 },
 "nbformat": 4,
 "nbformat_minor": 5
}
